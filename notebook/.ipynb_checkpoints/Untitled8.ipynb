{
 "cells": [
  {
   "cell_type": "code",
   "execution_count": null,
   "metadata": {},
   "outputs": [],
   "source": [
    "tarifas = pd.read_csv('tarifas_transaccion.csv')"
   ]
  },
  {
   "cell_type": "code",
   "execution_count": 1,
   "metadata": {},
   "outputs": [
    {
     "ename": "NameError",
     "evalue": "name 'tarifas' is not defined",
     "output_type": "error",
     "traceback": [
      "\u001b[1;31m---------------------------------------------------------------------------\u001b[0m",
      "\u001b[1;31mNameError\u001b[0m                                 Traceback (most recent call last)",
      "\u001b[1;32m<ipython-input-1-c14697060341>\u001b[0m in \u001b[0;36m<module>\u001b[1;34m\u001b[0m\n\u001b[1;32m----> 1\u001b[1;33m \u001b[0mtarifas\u001b[0m\u001b[1;33m\u001b[0m\u001b[1;33m\u001b[0m\u001b[0m\n\u001b[0m\u001b[0;32m      2\u001b[0m \u001b[0mtarifas\u001b[0m\u001b[1;33m.\u001b[0m\u001b[0mdescribe\u001b[0m\u001b[1;33m(\u001b[0m\u001b[1;33m)\u001b[0m\u001b[1;33m\u001b[0m\u001b[1;33m\u001b[0m\u001b[0m\n\u001b[0;32m      3\u001b[0m \u001b[0mtarifas\u001b[0m\u001b[1;33m.\u001b[0m\u001b[0mdtypes\u001b[0m\u001b[1;33m\u001b[0m\u001b[1;33m\u001b[0m\u001b[0m\n\u001b[0;32m      4\u001b[0m \u001b[1;33m\u001b[0m\u001b[0m\n\u001b[0;32m      5\u001b[0m \u001b[1;33m\u001b[0m\u001b[0m\n",
      "\u001b[1;31mNameError\u001b[0m: name 'tarifas' is not defined"
     ]
    }
   ],
   "source": [
    "tarifas\n",
    "tarifas.describe()\n",
    "tarifas.dtypes\n",
    "\n",
    "\n",
    "tarifas['DATE']\n",
    "\n",
    "tarifas['Open Time'] = pd.to_datetime(tarifas['DATE'])\n",
    "print(tarifas)\n",
    "\n",
    "tarifas.rename(columns={'INTDSRUSM193N':'tarifas'}, inplace=True)\n",
    "\n",
    "tarifas.describe()\n",
    "tarifas.dtypes\n"
   ]
  },
  {
   "cell_type": "code",
   "execution_count": null,
   "metadata": {},
   "outputs": [],
   "source": [
    "V3_with_tarifas\n",
    "\n",
    "\n",
    "\n",
    "df_with_tipoint.isna().sum()\n",
    "\n",
    "df_with_tipoint.fillna(method='ffill', inplace=True)\n",
    "\n",
    "df_V2 = pd.merge(left=df_V2, right=pib_usa, how='left', left_on='Open Time', right_on='Open Time')\n",
    "df_V2"
   ]
  },
  {
   "cell_type": "code",
   "execution_count": null,
   "metadata": {},
   "outputs": [],
   "source": [
    "df = pd.read_csv('df_indexes_gold_eth.csv', index_col=0)\n",
    "\n",
    "df\n",
    "df.describe()\n",
    "df.dtypes\n",
    "df['Open Time'] = pd.to_datetime(df['Open Time'])\n",
    "print(df)\n",
    "\n",
    "\n",
    "\n",
    "\n",
    "df_with_tipoint = df.merge(tarifas[[\"tarifas\", \"Open Time\"]], how='left', on=\"Open Time\")\n",
    "\n",
    "df_with_tipoint.dtypes\n",
    "\n",
    "df_with_tipoint.isna().sum()\n",
    "df_with_tipoint.fillna(method='ffill', inplace=True)\n"
   ]
  },
  {
   "cell_type": "code",
   "execution_count": null,
   "metadata": {},
   "outputs": [],
   "source": [
    "volatilidad = pd.read_csv('volatilidad_mercado.csv', index_col=0)\n",
    "\n",
    "\n",
    "volatilidad\n",
    "volatilidad.describe()\n",
    "volatilidad.dtypes\n",
    "\n",
    "\n",
    "volatilidad['DATE']\n",
    "\n",
    "tarifas['Open Time'] = pd.to_datetime(tarifas['DATE'])\n",
    "print(tarifas)\n",
    "\n",
    "tarifas.rename(columns={'INTDSRUSM193N':'tarifas'}, inplace=True)\n",
    "\n",
    "tarifas.describe()\n",
    "tarifas.dtypes\n",
    "\n",
    "\n",
    "volatilidad_mercado.csv\n",
    "\n",
    "carteras_clockchain.csv\n",
    "carteras = pd.read_csv('carteras_clockchain.csv', index_col=0)\n",
    "carteras.describe()\n",
    "\n",
    "carteras.rename(columns={'DATE':'Open Time'}, inplace=True)\n",
    "\n",
    "carteras.rename(columns={'fees-usd-per-transaction':'Tarifas'}, inplace=True)\n",
    "\n",
    "V4_with_carteras.drop(['wallet_x', 'wallet_y', 'wallet'], axis=1)\n",
    "\n",
    "\n",
    "#carteras... no ha volcado bien al data frame V4. VER\n",
    "\n",
    "V4 = pd.merge(left=V3_with_tarifas, right=carteras, how='left', left_on='Open Time', right_on='Open Time')\n",
    "V4.describe()\n",
    "\n",
    "\n",
    "'''\n",
    "Unnamed: 0.1       0\n",
    "Open Time          0\n",
    "Open               0\n",
    "High               0\n",
    "Low                0\n",
    "                ... \n",
    "CCI_300            0\n",
    "PIB                0\n",
    "CPI                0\n",
    "Tarifas            0\n",
    "wallet          1981 → ESTO NO ES NORMAL\n",
    "Length: 109, dtype: int64'''\n"
   ]
  }
 ],
 "metadata": {
  "kernelspec": {
   "display_name": "Python 3",
   "language": "python",
   "name": "python3"
  },
  "language_info": {
   "codemirror_mode": {
    "name": "ipython",
    "version": 3
   },
   "file_extension": ".py",
   "mimetype": "text/x-python",
   "name": "python",
   "nbconvert_exporter": "python",
   "pygments_lexer": "ipython3",
   "version": "3.8.3"
  }
 },
 "nbformat": 4,
 "nbformat_minor": 4
}
